{
 "cells": [
  {
   "cell_type": "markdown",
   "metadata": {},
   "source": [
    "**Soru_1**\n",
    "Birkaç ülke için elinizde finansal, ekonomik ve sosyal göstergeler hakkında Dünya Bankası verileri olduğunu varsayalım. Bu ülkelerdeki gelişme düzeyini etkileyen faktörleri ölçmek istiyorsunuz. Bu amaçla, milli gelirin nüfusa bölümü olarak tanımlanan kişi başına düşen milli geliri, kalkınma seviyesi için bir vekil olarak kullanmaya karar verdiniz. Kişi başına geliri tahmin etmek için veri kümenizdeki bazı özellikleri kullanmak istiyorsunuz. Bu görev bir sınıflandırma görevi mi yoksa bir regresyon görevi mi? Niçin?\n",
    "\n",
    "Regresyon görevidir. Çünkü kişi başına düşen milli gelir ve kalkınma seviyesi sürekli değişkenlerdir.\n",
    "\n",
    "**Soru_2**\n",
    "Aşağıdaki argümanlardan hangileri yanlıştır ve neden?\n",
    "OLS, özel bir doğrusal regresyon modelidir. **Doğru**\n",
    "Regresyon modelleri, doğrusal regresyon varsayımlarını karşılamıyorsa kullanışsız hale gelir.\n",
    "**Yanlış: Regresyon modelleri doğrusal regresyon varsayımlarını karşılamadığında bile kullanılabilir**\n",
    "Estimation ve prediction, doğrusal regresyon modelleri bağlamında aynı şeydir. **Yanlış:Estimation formül hesaplar. prediction tahmin yapar.**\n",
    "Doğrusal regresyon modeli sadece bir tür regresyon modelidir. Regresyon problemleri, Support Vector Machines veya Random Forests gibi başka modellerle de çözülebilir.\n",
    "\n",
    "\n",
    "**Soru_3**\n",
    "\n",
    "Proje yöneticinizin, şirketinizin sunduğu hangi ücretsiz hizmetlerin, müşterilerinizin daha fazla ücretli hizmet satın almasını sağladığını bulmanızı istediğini varsayalım. Bu görevi bir regresyon problemi olarak formüle edin ve üzerinde çalışmak istediğiniz potansiyel sonucu ve özellikleri yazın.\n",
    "\n",
    "Satın alınan ücretli hizmet sayısı hedef değişken tahmin edilmesi istenen \n",
    "\n",
    "Şirketin sunduğu ücretsiz hizmetler bağımsız değişkenler tahmin değişkenini etkileyen.\n",
    "\n",
    "y (Satın alınan ücretli hizmet)=x (ücretsiz hizmetler)+ katsayı\n",
    "\n",
    "Ücretsiz hizmetler arttıkça satın alınan ücretli hizmetin artması beklenir.\n"
   ]
  }
 ],
 "metadata": {
  "kernelspec": {
   "display_name": "Python 3",
   "language": "python",
   "name": "python3"
  },
  "language_info": {
   "codemirror_mode": {
    "name": "ipython",
    "version": 3
   },
   "file_extension": ".py",
   "mimetype": "text/x-python",
   "name": "python",
   "nbconvert_exporter": "python",
   "pygments_lexer": "ipython3",
   "version": "3.7.1"
  }
 },
 "nbformat": 4,
 "nbformat_minor": 2
}
